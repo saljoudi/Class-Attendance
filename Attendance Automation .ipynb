{
 "cells": [
  {
   "cell_type": "code",
   "execution_count": 1,
   "id": "caa7b0c1",
   "metadata": {},
   "outputs": [],
   "source": [
    "import pandas as pd\n",
    "import random\n",
    "from datetime import datetime, timedelta"
   ]
  },
  {
   "cell_type": "code",
   "execution_count": 2,
   "id": "6182cfcc",
   "metadata": {},
   "outputs": [],
   "source": [
    "df = pd.read_csv(\"class_dataset.csv\")"
   ]
  },
  {
   "cell_type": "code",
   "execution_count": 3,
   "id": "499ff613",
   "metadata": {},
   "outputs": [
    {
     "data": {
      "text/html": [
       "<div>\n",
       "<style scoped>\n",
       "    .dataframe tbody tr th:only-of-type {\n",
       "        vertical-align: middle;\n",
       "    }\n",
       "\n",
       "    .dataframe tbody tr th {\n",
       "        vertical-align: top;\n",
       "    }\n",
       "\n",
       "    .dataframe thead th {\n",
       "        text-align: right;\n",
       "    }\n",
       "</style>\n",
       "<table border=\"1\" class=\"dataframe\">\n",
       "  <thead>\n",
       "    <tr style=\"text-align: right;\">\n",
       "      <th></th>\n",
       "      <th>Student_ID</th>\n",
       "      <th>First_join</th>\n",
       "      <th>Last_leave</th>\n",
       "      <th>Total_time</th>\n",
       "    </tr>\n",
       "  </thead>\n",
       "  <tbody>\n",
       "    <tr>\n",
       "      <th>0</th>\n",
       "      <td>Student_001</td>\n",
       "      <td>01/28/2022 08:07:00</td>\n",
       "      <td>01/28/2022 09:49:00</td>\n",
       "      <td>01:42:00</td>\n",
       "    </tr>\n",
       "    <tr>\n",
       "      <th>1</th>\n",
       "      <td>Student_002</td>\n",
       "      <td>01/28/2022 08:11:00</td>\n",
       "      <td>01/28/2022 08:32:00</td>\n",
       "      <td>00:21:00</td>\n",
       "    </tr>\n",
       "    <tr>\n",
       "      <th>2</th>\n",
       "      <td>Student_003</td>\n",
       "      <td>01/28/2022 08:11:00</td>\n",
       "      <td>01/28/2022 08:19:00</td>\n",
       "      <td>00:08:00</td>\n",
       "    </tr>\n",
       "    <tr>\n",
       "      <th>3</th>\n",
       "      <td>Student_004</td>\n",
       "      <td>01/28/2022 08:09:00</td>\n",
       "      <td>01/28/2022 09:44:00</td>\n",
       "      <td>01:35:00</td>\n",
       "    </tr>\n",
       "    <tr>\n",
       "      <th>4</th>\n",
       "      <td>Student_005</td>\n",
       "      <td>01/28/2022 08:03:00</td>\n",
       "      <td>01/28/2022 09:26:00</td>\n",
       "      <td>01:23:00</td>\n",
       "    </tr>\n",
       "  </tbody>\n",
       "</table>\n",
       "</div>"
      ],
      "text/plain": [
       "    Student_ID           First_join           Last_leave Total_time\n",
       "0  Student_001  01/28/2022 08:07:00  01/28/2022 09:49:00   01:42:00\n",
       "1  Student_002  01/28/2022 08:11:00  01/28/2022 08:32:00   00:21:00\n",
       "2  Student_003  01/28/2022 08:11:00  01/28/2022 08:19:00   00:08:00\n",
       "3  Student_004  01/28/2022 08:09:00  01/28/2022 09:44:00   01:35:00\n",
       "4  Student_005  01/28/2022 08:03:00  01/28/2022 09:26:00   01:23:00"
      ]
     },
     "execution_count": 3,
     "metadata": {},
     "output_type": "execute_result"
    }
   ],
   "source": [
    "df.head()"
   ]
  },
  {
   "cell_type": "code",
   "execution_count": 4,
   "id": "7f46fb8a",
   "metadata": {},
   "outputs": [],
   "source": [
    "\n",
    "\n",
    "\n",
    "# We need to split the time from the date\n",
    "def Splitting(df):\n",
    "    df['Date_Join'] = pd.to_datetime(df['First_join']).dt.date\n",
    "    df['Time_Join'] = pd.to_datetime(df['First_join']).dt.time\n",
    "    df['Date_Leave'] = pd.to_datetime(df['Last_leave']).dt.date\n",
    "    df['Time_Leave'] = pd.to_datetime(df['Last_leave']).dt.time\n",
    "    # the class starts 8:00 am but the extra ten mintues to allow for late students. \n",
    "    df[\"Class_Time\"] = pd.to_datetime(\"8:10:00\").time()\n",
    "\n",
    "Splitting(df)\n",
    "\n",
    "\n",
    "# late studetns are those who attended the class 10 mintues late. \n",
    "df[\"Attendees\"] = df[\"Time_Join\"] < df[\"Class_Time\"]\n",
    "df[\"Attendees\"] = df[\"Attendees\"].astype(int)\n",
    "\n",
    "# Calculate attendance statistics\n",
    "Date = df[\"Date_Join\"].max()\n",
    "Course_Name = \"Health Informatics\"\n",
    "Day = \"Tuesday\"\n",
    "Total = 100\n",
    "Attendees_Tot = df[\"Attendees\"].sum()\n",
    "data = {\n",
    "    'Date': [Date],\n",
    "    'Day': [Day],\n",
    "    'Course_Name': [Course_Name],\n",
    "    'Total_Students': [Total],\n",
    "    'Total_Attendees': [Attendees_Tot]\n",
    "}\n",
    "df = pd.DataFrame(data)\n",
    "\n",
    "df[\"Total_Absents\"] = df[\"Total_Students\"] - df[\"Total_Attendees\"]\n",
    "df[\"Attendance_Percentage\"] = round(df[\"Total_Attendees\"] / df[\"Total_Students\"] * 100, 2)\n",
    "df['Date'] = pd.to_datetime(df['Date'])"
   ]
  },
  {
   "cell_type": "code",
   "execution_count": 5,
   "id": "d325a659",
   "metadata": {},
   "outputs": [
    {
     "data": {
      "text/html": [
       "<div>\n",
       "<style scoped>\n",
       "    .dataframe tbody tr th:only-of-type {\n",
       "        vertical-align: middle;\n",
       "    }\n",
       "\n",
       "    .dataframe tbody tr th {\n",
       "        vertical-align: top;\n",
       "    }\n",
       "\n",
       "    .dataframe thead th {\n",
       "        text-align: right;\n",
       "    }\n",
       "</style>\n",
       "<table border=\"1\" class=\"dataframe\">\n",
       "  <thead>\n",
       "    <tr style=\"text-align: right;\">\n",
       "      <th></th>\n",
       "      <th>Date</th>\n",
       "      <th>Day</th>\n",
       "      <th>Course_Name</th>\n",
       "      <th>Total_Students</th>\n",
       "      <th>Total_Attendees</th>\n",
       "      <th>Total_Absents</th>\n",
       "      <th>Attendance_Percentage</th>\n",
       "    </tr>\n",
       "  </thead>\n",
       "  <tbody>\n",
       "    <tr>\n",
       "      <th>0</th>\n",
       "      <td>2022-01-28</td>\n",
       "      <td>Tuesday</td>\n",
       "      <td>Health Informatics</td>\n",
       "      <td>100</td>\n",
       "      <td>63</td>\n",
       "      <td>37</td>\n",
       "      <td>63.0</td>\n",
       "    </tr>\n",
       "  </tbody>\n",
       "</table>\n",
       "</div>"
      ],
      "text/plain": [
       "        Date      Day         Course_Name  Total_Students  Total_Attendees  \\\n",
       "0 2022-01-28  Tuesday  Health Informatics             100               63   \n",
       "\n",
       "   Total_Absents  Attendance_Percentage  \n",
       "0             37                   63.0  "
      ]
     },
     "execution_count": 5,
     "metadata": {},
     "output_type": "execute_result"
    }
   ],
   "source": [
    "df"
   ]
  },
  {
   "cell_type": "code",
   "execution_count": null,
   "id": "55da448d",
   "metadata": {},
   "outputs": [],
   "source": []
  }
 ],
 "metadata": {
  "kernelspec": {
   "display_name": "Python 3 (ipykernel)",
   "language": "python",
   "name": "python3"
  },
  "language_info": {
   "codemirror_mode": {
    "name": "ipython",
    "version": 3
   },
   "file_extension": ".py",
   "mimetype": "text/x-python",
   "name": "python",
   "nbconvert_exporter": "python",
   "pygments_lexer": "ipython3",
   "version": "3.8.8"
  }
 },
 "nbformat": 4,
 "nbformat_minor": 5
}
